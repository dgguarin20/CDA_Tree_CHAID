{
 "cells": [
  {
   "cell_type": "code",
   "execution_count": 2,
   "metadata": {},
   "outputs": [],
   "source": [
    "import sklearn.datasets as datasets\n",
    "import pandas as pd\n",
    "\n",
    "import pandas_profiling\n",
    "\n",
    "\n",
    "df = pd.read_excel('ENERO.xlsx')"
   ]
  },
  {
   "cell_type": "code",
   "execution_count": 6,
   "metadata": {},
   "outputs": [
    {
     "data": {
      "text/plain": [
       "<bound method NDFrame.head of        FECH  ADUA  PAIS COD_PAI4  COD_SAL1 COD_SAL  DPTO2  VIA  BANDERA  \\\n",
       "0      1901     1   249      USA         0     AXM     68    7      249   \n",
       "1      1901     1   924      XCF         0     AXM     25    3      169   \n",
       "2      1901     3    13      AFG         3     BOG     11    4      249   \n",
       "3      1901     3    23      DEU         3     BOG      5    4       23   \n",
       "4      1901     3    23      DEU         3     BOG      5    4       23   \n",
       "5      1901     3    23      DEU         3     BOG      5    4       23   \n",
       "6      1901     3    23      DEU         3     BOG      5    4       23   \n",
       "7      1901     3    23      DEU         3     BOG      5    4       23   \n",
       "8      1901     3    23      DEU         3     BOG      5    4       23   \n",
       "9      1901     3    23      DEU         3     BOG      5    4       23   \n",
       "10     1901     3    23      DEU         3     BOG      5    4       23   \n",
       "11     1901     3    23      DEU         3     BOG      5    4      249   \n",
       "12     1901     3    23      DEU         3     BOG      5    4      253   \n",
       "13     1901     3    23      DEU         3     BOG      5    4      850   \n",
       "14     1901     3    23      DEU         3     BOG      5    4      850   \n",
       "15     1901     3    23      DEU         3     BOG      5    4      850   \n",
       "16     1901     3    23      DEU         3     BOG      5    4      850   \n",
       "17     1901     3    23      DEU         3     BOG     11    4       23   \n",
       "18     1901     3    23      DEU         3     BOG     11    4       23   \n",
       "19     1901     3    23      DEU         3     BOG     11    4       23   \n",
       "20     1901     3    23      DEU         3     BOG     11    4       23   \n",
       "21     1901     3    23      DEU         3     BOG     11    4       23   \n",
       "22     1901     3    23      DEU         3     BOG     11    4       23   \n",
       "23     1901     3    23      DEU         3     BOG     11    4       23   \n",
       "24     1901     3    23      DEU         3     BOG     11    4       23   \n",
       "25     1901     3    23      DEU         3     BOG     11    4       23   \n",
       "26     1901     3    23      DEU         3     BOG     11    4       23   \n",
       "27     1901     3    23      DEU         3     BOG     11    4       23   \n",
       "28     1901     3    23      DEU         3     BOG     11    4       23   \n",
       "29     1901     3    23      DEU         3     BOG     11    4       23   \n",
       "...     ...   ...   ...      ...       ...     ...    ...  ...      ...   \n",
       "34767  1901    90   845      URY         3     BOG      5    4      830   \n",
       "34768  1901    90   850      VEN         3     BOG      5    4      580   \n",
       "34769  1901    90   850      VEN        11     MDE      5    4      580   \n",
       "34770  1901    90   855      VNM        11     MDE      5    4      169   \n",
       "34771  1901    90   855      VNM        11     MDE      5    4      169   \n",
       "34772  1901    90   855      VNM        11     MDE      5    4      169   \n",
       "34773  1901    90   917      XCF        11     MDE      5    3      169   \n",
       "34774  1901    90   917      XCF        11     MDE      5    3      169   \n",
       "34775  1901    90   917      XCF        11     MDE      5    3      169   \n",
       "34776  1901    90   917      XCF        11     MDE      5    3      169   \n",
       "34777  1901    90   917      XCF        11     MDE      5    3      169   \n",
       "34778  1901    90   917      XCF        11     MDE      5    3      169   \n",
       "34779  1901    90   917      XCF        11     MDE      5    3      169   \n",
       "34780  1901    90   917      XCF        11     MDE      5    3      169   \n",
       "34781  1901    90   917      XCF        11     MDE      5    3      169   \n",
       "34782  1901    90   917      XCF        11     MDE      5    3      169   \n",
       "34783  1901    90   917      XCF        11     MDE      5    3      169   \n",
       "34784  1901    90   917      XCF        11     MDE      5    3      169   \n",
       "34785  1901    90   917      XCF        11     MDE      5    3      169   \n",
       "34786  1901    90   917      XCF        11     MDE      5    3      169   \n",
       "34787  1901    90   917      XCF        11     MDE      5    3      169   \n",
       "34788  1901    90   917      XCF        11     MDE      5    3      169   \n",
       "34789  1901    90   917      XCF        11     MDE      5    3      169   \n",
       "34790  1901    90   917      XCF        11     MDE      5    3      169   \n",
       "34791  1901    90   917      XCF        11     MDE      5    3      169   \n",
       "34792  1901    90   917      XCF        11     MDE      5    3      169   \n",
       "34793  1901    90   917      XCF        11     MDE      5    3      169   \n",
       "34794  1901    90   917      XCF        11     MDE     11    3      169   \n",
       "34795  1901    90   917      XCF        11     MDE     11    3      169   \n",
       "34796  1901    90   917      XCF        11     MDE     11    3      169   \n",
       "\n",
       "       REGIM                        ...                                PBK  \\\n",
       "0          1                        ...                          112893.56   \n",
       "1          1                        ...                            1351.00   \n",
       "2          1                        ...                             184.00   \n",
       "3          1                        ...                               7.11   \n",
       "4          1                        ...                             142.33   \n",
       "5          1                        ...                             182.66   \n",
       "6          1                        ...                             177.91   \n",
       "7          1                        ...                             151.82   \n",
       "8          1                        ...                              28.46   \n",
       "9          1                        ...                              85.40   \n",
       "10         1                        ...                             510.27   \n",
       "11         1                        ...                             399.00   \n",
       "12         1                        ...                             272.00   \n",
       "13         1                        ...                              70.44   \n",
       "14         1                        ...                               6.15   \n",
       "15         1                        ...                               1.65   \n",
       "16         1                        ...                               4.50   \n",
       "17         1                        ...                             429.00   \n",
       "18         1                        ...                            4201.00   \n",
       "19         1                        ...                             417.52   \n",
       "20         1                        ...                            1977.47   \n",
       "21         1                        ...                            1512.00   \n",
       "22         1                        ...                             165.32   \n",
       "23         1                        ...                              63.96   \n",
       "24         1                        ...                              89.13   \n",
       "25         1                        ...                            1107.63   \n",
       "26         1                        ...                            1123.55   \n",
       "27         1                        ...                            1049.20   \n",
       "28         1                        ...                              40.93   \n",
       "29         1                        ...                             310.96   \n",
       "...      ...                        ...                                ...   \n",
       "34767      1                        ...                             724.00   \n",
       "34768      1                        ...                             546.00   \n",
       "34769      1                        ...                              47.00   \n",
       "34770      1                        ...                             329.00   \n",
       "34771      1                        ...                             240.00   \n",
       "34772      1                        ...                             268.00   \n",
       "34773      1                        ...                               0.40   \n",
       "34774      1                        ...                              35.32   \n",
       "34775      1                        ...                               5.12   \n",
       "34776      1                        ...                             106.89   \n",
       "34777      1                        ...                               3.57   \n",
       "34778      1                        ...                              62.51   \n",
       "34779      1                        ...                             114.97   \n",
       "34780      1                        ...                               0.14   \n",
       "34781      1                        ...                             104.58   \n",
       "34782      1                        ...                             116.61   \n",
       "34783      1                        ...                             257.33   \n",
       "34784      1                        ...                              21.08   \n",
       "34785      1                        ...                               0.90   \n",
       "34786      1                        ...                            1335.21   \n",
       "34787      1                        ...                             240.94   \n",
       "34788      1                        ...                               2.43   \n",
       "34789      1                        ...                               0.50   \n",
       "34790      1                        ...                              22.32   \n",
       "34791      1                        ...                               3.73   \n",
       "34792      1                        ...                               5.92   \n",
       "34793      1                        ...                              29.60   \n",
       "34794      1                        ...                            2981.51   \n",
       "34795      1                        ...                              82.93   \n",
       "34796      1                        ...                             798.38   \n",
       "\n",
       "             PNK     FOBDOL        FOBPES    AGRENA    FLETES   SEGURO OTROSG  \\\n",
       "0      112893.56  107992.78  3.374731e+08      0.00      0.00     0.00    0.0   \n",
       "1        1200.00    7040.10  2.202193e+07      0.00      0.00     0.00    0.0   \n",
       "2         128.00    5600.00  1.769891e+07      0.00      0.00     0.00    0.0   \n",
       "3           6.00      29.50  9.323534e+04     29.50      0.00     0.00    0.0   \n",
       "4         120.00     668.00  2.111227e+06    668.00      0.00     0.00    0.0   \n",
       "5         154.00    1164.10  3.679161e+06   1164.10      0.00     0.00    0.0   \n",
       "6         150.00     770.00  2.433600e+06    770.00      0.00     0.00    0.0   \n",
       "7         128.00     827.20  2.614382e+06    827.20      0.00     0.00    0.0   \n",
       "8          24.00     168.00  5.309674e+05    168.00      0.00     0.00    0.0   \n",
       "9          72.00     489.60  1.547391e+06    489.60      0.00     0.00    0.0   \n",
       "10        430.20    2655.10  8.391497e+06   2655.10      0.00     0.00    0.0   \n",
       "11        390.00     880.25  2.782048e+06      0.00      0.00     0.00    0.0   \n",
       "12        226.00    1099.20  3.464118e+06      0.00      0.00     0.00    0.0   \n",
       "13         69.30   15141.26  4.724921e+07      0.00      0.00     0.00    0.0   \n",
       "14          6.05    2121.32  6.619706e+06      0.00      0.00     0.00    0.0   \n",
       "15          1.50    4000.00  1.258456e+07      0.00      0.00     0.00    0.0   \n",
       "16          4.50    2000.00  6.292280e+06      0.00      0.00     0.00    0.0   \n",
       "17        407.50    1681.20  5.297353e+06   1568.95      0.00     0.00    0.0   \n",
       "18       3667.00  103933.67  3.266864e+08  87106.83  13044.00  1181.60    0.0   \n",
       "19        379.00    2247.00  7.011898e+06      0.00      0.00     0.00    0.0   \n",
       "20       1795.00    9158.40  2.857934e+07      0.00      0.00     0.00    0.0   \n",
       "21       1399.00    7488.00  2.359836e+07      0.00      0.00     0.00    0.0   \n",
       "22        138.00     482.00  1.523003e+06      0.00     46.34     0.00    0.0   \n",
       "23         54.00     315.00  9.891598e+05      0.00    148.94     0.00    0.0   \n",
       "24         75.00     220.00  6.918242e+05      0.00     85.11     0.00    0.0   \n",
       "25        924.00    5348.00  1.687675e+07      0.00    930.52     0.00    0.0   \n",
       "26        938.00    3246.30  1.024304e+07      0.00    590.80     0.00    0.0   \n",
       "27        877.40    3402.00  1.073774e+07      0.00    553.21     0.00    0.0   \n",
       "28         34.00     130.90  4.142658e+05      0.00      0.00     0.00    0.0   \n",
       "29        261.00    1205.20  3.797652e+06      0.00    317.74     0.00    0.0   \n",
       "...          ...        ...           ...       ...       ...      ...    ...   \n",
       "34767     662.40    9494.40  2.979020e+07      0.00   2731.00     0.00    0.0   \n",
       "34768     480.00    1114.00  3.476304e+06    685.74   1425.00     0.00    0.0   \n",
       "34769      45.00    4284.00  1.353967e+07      0.00    570.00    60.00  200.0   \n",
       "34770     306.00   27126.90  8.815564e+07      0.00      0.00     0.00    0.0   \n",
       "34771     225.00    2062.50  6.498071e+06      0.00    900.00     1.79    0.0   \n",
       "34772     263.00    5689.67  1.786664e+07      0.00      0.00     0.00    0.0   \n",
       "34773       0.40   15957.74  5.011034e+07      0.00      0.00     0.00    0.0   \n",
       "34774      33.48    2000.80  6.292952e+06   1305.68      0.00     0.00    0.0   \n",
       "34775       4.87     293.70  9.239572e+05    115.55      0.00     0.00    0.0   \n",
       "34776     101.41    5674.50  1.781887e+07   2614.43      0.00     0.00    0.0   \n",
       "34777       3.40     162.60  5.081185e+05     90.53      0.00     0.00    0.0   \n",
       "34778      59.25    3600.30  1.132909e+07   2227.20      0.00     0.00    0.0   \n",
       "34779     109.10    5892.10  1.849275e+07   2673.08      0.00     0.00    0.0   \n",
       "34780       0.14       9.00  2.835522e+04      7.74      0.00     0.00    0.0   \n",
       "34781      99.20    1453.45  4.708482e+06      0.00      0.00     0.00    0.0   \n",
       "34782     110.60    2315.31  7.323760e+06      0.00      0.00     0.00    0.0   \n",
       "34783     244.32    5766.00  1.824524e+07      0.00      0.00     0.00    0.0   \n",
       "34784      20.03     409.60  1.296282e+06      0.00      0.00     0.00    0.0   \n",
       "34785       0.86      12.85  4.175928e+04      0.00      0.00     0.00    0.0   \n",
       "34786    1268.20   27591.70  8.731629e+07      0.00      0.00     0.00    0.0   \n",
       "34787     228.90    5485.80  1.735988e+07      0.00      0.00     0.00    0.0   \n",
       "34788       2.29      57.20  1.794138e+05      0.00      0.00     0.00    0.0   \n",
       "34789       0.47      26.50  8.349037e+04      0.00      0.00     0.00    0.0   \n",
       "34790      21.04     509.91  1.597531e+06      0.00      0.00     0.00    0.0   \n",
       "34791       3.55      80.69  2.521530e+05      0.00      0.00     0.00    0.0   \n",
       "34792       5.52     145.81  4.583187e+05      0.00      0.00     0.00    0.0   \n",
       "34793      28.13     582.01  1.839313e+06      0.00      0.00     0.00    0.0   \n",
       "34794    2782.15   87462.73  2.770697e+08  72465.51      0.00     0.00    0.0   \n",
       "34795      77.05    3013.83  9.547392e+06   2489.91      0.00     0.00    0.0   \n",
       "34796     747.98   23503.58  7.445605e+07  19587.96      0.00     0.00    0.0   \n",
       "\n",
       "               NIT                                           RAZ_SIAL  \n",
       "0      830095617.0                                    ENERGIZAR S.A.S  \n",
       "1      900410496.0                          DESTILADOS EXOTICOS S A S  \n",
       "2      800199889.0                                       BLINDEX S.A.  \n",
       "3      800176428.0  COMERCIALIZADORA INTERNACIONAL CARIBBEAN EXOTI...  \n",
       "4      800176428.0  COMERCIALIZADORA INTERNACIONAL CARIBBEAN EXOTI...  \n",
       "5      800176428.0  COMERCIALIZADORA INTERNACIONAL CARIBBEAN EXOTI...  \n",
       "6      800176428.0  COMERCIALIZADORA INTERNACIONAL CARIBBEAN EXOTI...  \n",
       "7      800176428.0  COMERCIALIZADORA INTERNACIONAL CARIBBEAN EXOTI...  \n",
       "8      800176428.0  COMERCIALIZADORA INTERNACIONAL CARIBBEAN EXOTI...  \n",
       "9      800176428.0  COMERCIALIZADORA INTERNACIONAL CARIBBEAN EXOTI...  \n",
       "10     800176428.0  COMERCIALIZADORA INTERNACIONAL CARIBBEAN EXOTI...  \n",
       "11     900137094.0                      C.I SURANDINA DE FLORES S.A.S  \n",
       "12     900011589.0                                     GREENEX S.A.S.  \n",
       "13     811039652.0                                          MAS S.A.S  \n",
       "14     811039652.0                                          MAS S.A.S  \n",
       "15     800042471.0                                          ARUS S.A.  \n",
       "16     800042471.0                                          ARUS S.A.  \n",
       "17     830042322.0                            EXCELLENCE FLOWERS LTDA  \n",
       "18     860535706.0                            A .G.P. DE COLOMBIA S A  \n",
       "19     800065684.0                          FLORES DE LA HACIENDA SAS  \n",
       "20     800065684.0                          FLORES DE LA HACIENDA SAS  \n",
       "21     900552241.0                                       GEOFLORA SAS  \n",
       "22     800026845.0                                          OCATI S A  \n",
       "23     800026845.0                                          OCATI S A  \n",
       "24     800026845.0                                          OCATI S A  \n",
       "25     800026845.0                                          OCATI S A  \n",
       "26     800026845.0                                          OCATI S A  \n",
       "27     800026845.0                                          OCATI S A  \n",
       "28     800026845.0                                          OCATI S A  \n",
       "29     800026845.0                                          OCATI S A  \n",
       "...            ...                                                ...  \n",
       "34767  890900043.0               COMPAÑIA COLOMBIANA DE TABACO S.A.S.  \n",
       "34768  800026092.0                        H.B. FULLER COLOMBIA S.A.S.  \n",
       "34769  900138759.0                            INDUSTRIAL DE POMOS S.A  \n",
       "34770  890903532.0                INDUSTRIA COLOMBIANA DE CAFE S.A.S.  \n",
       "34771  890917295.0                                COLORQUIMICA S.A.S.  \n",
       "34772  890900342.0           FABRICA DE HILOS Y PRODUCTOS VARIOS S.A.  \n",
       "34773   70162865.0                  RAMIREZ RAMIREZ ELIBERTO DE JESUS  \n",
       "34774  890900197.0                                       EVERFIT S.A.  \n",
       "34775  890900197.0                                       EVERFIT S.A.  \n",
       "34776  890900197.0                                       EVERFIT S.A.  \n",
       "34777  890900197.0                                       EVERFIT S.A.  \n",
       "34778  890900197.0                                       EVERFIT S.A.  \n",
       "34779  890900197.0                                       EVERFIT S.A.  \n",
       "34780  890900197.0                                       EVERFIT S.A.  \n",
       "34781  890900197.0                                       EVERFIT S.A.  \n",
       "34782  890900197.0                                       EVERFIT S.A.  \n",
       "34783  890900197.0                                       EVERFIT S.A.  \n",
       "34784  890900197.0                                       EVERFIT S.A.  \n",
       "34785  890900197.0                                       EVERFIT S.A.  \n",
       "34786  890900197.0                                       EVERFIT S.A.  \n",
       "34787  890900197.0                                       EVERFIT S.A.  \n",
       "34788  890900197.0                                       EVERFIT S.A.  \n",
       "34789  890900197.0                                       EVERFIT S.A.  \n",
       "34790  890900197.0                                       EVERFIT S.A.  \n",
       "34791  890900197.0                                       EVERFIT S.A.  \n",
       "34792  890900197.0                                       EVERFIT S.A.  \n",
       "34793  890900197.0                                       EVERFIT S.A.  \n",
       "34794  860001963.0                                        PROTELA S A  \n",
       "34795  860001963.0                                        PROTELA S A  \n",
       "34796  860001963.0                                        PROTELA S A  \n",
       "\n",
       "[34797 rows x 29 columns]>"
      ]
     },
     "execution_count": 6,
     "metadata": {},
     "output_type": "execute_result"
    }
   ],
   "source": [
    "df.head"
   ]
  },
  {
   "cell_type": "code",
   "execution_count": null,
   "metadata": {},
   "outputs": [],
   "source": []
  },
  {
   "cell_type": "markdown",
   "metadata": {},
   "source": [
    "3.Los datos corresponden a estadisticas de las exportaciones de colombia en el mes de enero. Cada uno de los datos corresponde a la exportación realizada. Dentro de la informacion es posible ver la fecha en la que se realizó la exportación, en que aduana se hizo y a que pais va la mercancía. Adicionalmente es posible ver el medio de transporte en donde la mercancia va a ser transportada, el motivo de la exportación."
   ]
  },
  {
   "cell_type": "markdown",
   "metadata": {},
   "source": [
    "**II. ANalisis**\n",
    "\n",
    "Hipotesis 1: A mayor peso el precio del flete por kilo disminuye\n",
    "\n",
    "Hipotesis 2: En la aduana de cartagena el metodo de exportación preferido es el maritimo\n",
    "\n",
    "Hipotesis 3: Existen preferencias en ciertas aduanas de exportar mayor cantidad de kilos\n",
    "\n",
    "Hipotesis 4: el medio de trasporte y la aduana como tal influye en el valor de los bienes que se exportan(mas dolares)"
   ]
  },
  {
   "cell_type": "code",
   "execution_count": 3,
   "metadata": {},
   "outputs": [
    {
     "data": {
      "text/plain": [
       "<matplotlib.axes._subplots.AxesSubplot at 0xe704ac8>"
      ]
     },
     "execution_count": 3,
     "metadata": {},
     "output_type": "execute_result"
    },
    {
     "data": {
      "image/png": "[encoded data removed]",
      "text/plain": [
       "<Figure size 432x288 with 1 Axes>"
      ]
     },
     "metadata": {
      "needs_background": "light"
     },
     "output_type": "display_data"
    }
   ],
   "source": [
    "df.boxplot(column=['ADUA'], grid=False)"
   ]
  },
  {
   "cell_type": "markdown",
   "metadata": {},
   "source": [
    "2.1 Mediante este grafico es posible ver cuales son las aduanas que mas exportaciones tiene, estas se encuentran en las categorias 0 a 25 aproximadamente. SIn embargo con esta grafica no es posible resolver la hipotesis ya que se requiere ver como esta se relaciona con los kilos de exportación, no solo con el numero de estas."
   ]
  },
  {
   "cell_type": "code",
   "execution_count": 3,
   "metadata": {},
   "outputs": [
    {
     "name": "stdout",
     "output_type": "stream",
     "text": [
      "33.70998848306662 6.4248333204316195e-09\n"
     ]
    }
   ],
   "source": [
    "import scipy.stats as stats\n",
    "import statsmodels.api as sm\n",
    "\n",
    "import seaborn as sns\n",
    "# stats f_oneway functions takes the groups as input and returns F and P-value\n",
    "fvalue, pvalue = stats.f_oneway(df['ADUA'], df['PBK'])\n",
    "print(fvalue, pvalue)\n",
    "# 17.492810457516338 2.639241146210922e-05"
   ]
  },
  {
   "cell_type": "code",
   "execution_count": 7,
   "metadata": {},
   "outputs": [
    {
     "data": {
      "text/html": [
       "<div>\n",
       "<style scoped>\n",
       "    .dataframe tbody tr th:only-of-type {\n",
       "        vertical-align: middle;\n",
       "    }\n",
       "\n",
       "    .dataframe tbody tr th {\n",
       "        vertical-align: top;\n",
       "    }\n",
       "\n",
       "    .dataframe thead th {\n",
       "        text-align: right;\n",
       "    }\n",
       "</style>\n",
       "<table border=\"1\" class=\"dataframe\">\n",
       "  <thead>\n",
       "    <tr style=\"text-align: right;\">\n",
       "      <th></th>\n",
       "      <th>sum_sq</th>\n",
       "      <th>df</th>\n",
       "      <th>F</th>\n",
       "      <th>PR(&gt;F)</th>\n",
       "    </tr>\n",
       "  </thead>\n",
       "  <tbody>\n",
       "    <tr>\n",
       "      <th>C(treatments)</th>\n",
       "      <td>1.234186e+15</td>\n",
       "      <td>1.0</td>\n",
       "      <td>33.709988</td>\n",
       "      <td>6.424833e-09</td>\n",
       "    </tr>\n",
       "    <tr>\n",
       "      <th>Residual</th>\n",
       "      <td>2.547895e+18</td>\n",
       "      <td>69592.0</td>\n",
       "      <td>NaN</td>\n",
       "      <td>NaN</td>\n",
       "    </tr>\n",
       "  </tbody>\n",
       "</table>\n",
       "</div>"
      ],
      "text/plain": [
       "                     sum_sq       df          F        PR(>F)\n",
       "C(treatments)  1.234186e+15      1.0  33.709988  6.424833e-09\n",
       "Residual       2.547895e+18  69592.0        NaN           NaN"
      ]
     },
     "execution_count": 7,
     "metadata": {},
     "output_type": "execute_result"
    }
   ],
   "source": [
    "from statsmodels.formula.api import ols\n",
    "from statsmodels.stats.multicomp import pairwise_tukeyhsd\n",
    "# reshape the d dataframe suitable for statsmodels package \n",
    "d_melt = pd.melt(df.reset_index(), id_vars=['index'], value_vars=['ADUA', 'PBK'])\n",
    "# replace column names\n",
    "d_melt.columns = ['index', 'treatments', 'value']\n",
    "# Ordinary Least Squares (OLS) model\n",
    "model = ols('value ~ C(treatments)', data=d_melt).fit()\n",
    "anova_table = sm.stats.anova_lm(model, typ=2)\n",
    "anova_table"
   ]
  },
  {
   "cell_type": "markdown",
   "metadata": {},
   "source": [
    "El valor P obtenido del análisis ANOVA es significativo (P <0.05) y, por lo tanto, concluimos que existen diferencias significativas entre los tratamientos."
   ]
  },
  {
   "cell_type": "code",
   "execution_count": 9,
   "metadata": {},
   "outputs": [
    {
     "name": "stdout",
     "output_type": "stream",
     "text": [
      "33.689124842814 6.494078402153701e-09\n"
     ]
    }
   ],
   "source": [
    "w, pvalue = stats.levene(df['ADUA'], df['PBK'])\n",
    "print(w, pvalue)\n",
    "# 1.9219593192195938 0.16673281219949276"
   ]
  },
  {
   "cell_type": "markdown",
   "metadata": {},
   "source": [
    "Como el valor P no es significativo (> 0.05), no podemos rechazar la hipótesis nula de igualdad de varianzas"
   ]
  },
  {
   "cell_type": "code",
   "execution_count": 10,
   "metadata": {},
   "outputs": [
    {
     "name": "stdout",
     "output_type": "stream",
     "text": [
      "0.008591294288635254 0.0\n"
     ]
    },
    {
     "name": "stderr",
     "output_type": "stream",
     "text": [
      "C:\\Users\\A0778458\\AppData\\Local\\Continuum\\anaconda3\\lib\\site-packages\\scipy\\stats\\morestats.py:1653: UserWarning: p-value may not be accurate for N > 5000.\n",
      "  warnings.warn(\"p-value may not be accurate for N > 5000.\")\n"
     ]
    }
   ],
   "source": [
    "w, pvalue = stats.shapiro(model.resid)\n",
    "print(w, pvalue)"
   ]
  },
  {
   "cell_type": "markdown",
   "metadata": {},
   "source": [
    "P value no es signficativo. No se puede rechazar la hipótesis nula y concluir que los datos se extraen de la distribución normal."
   ]
  },
  {
   "cell_type": "markdown",
   "metadata": {},
   "source": [
    "**Parte 2**"
   ]
  },
  {
   "cell_type": "code",
   "execution_count": null,
   "metadata": {},
   "outputs": [],
   "source": []
  },
  {
   "cell_type": "code",
   "execution_count": null,
   "metadata": {},
   "outputs": [],
   "source": []
  },
  {
   "cell_type": "code",
   "execution_count": 14,
   "metadata": {},
   "outputs": [
    {
     "data": {
      "text/plain": [
       "<matplotlib.axes._subplots.AxesSubplot at 0x139abbe0>"
      ]
     },
     "execution_count": 14,
     "metadata": {},
     "output_type": "execute_result"
    },
    {
     "data": {
      "image/png": "[encoded data removed]",
      "text/plain": [
       "<Figure size 576x396 with 1 Axes>"
      ]
     },
     "metadata": {},
     "output_type": "display_data"
    }
   ],
   "source": [
    "# reshape the d dataframe suitable for statsmodels package \n",
    "# you do not need to reshape if your data is already in stacked format. Compare d and d_melt tables for detail \n",
    "# understanding \n",
    "d_melt = pd.melt(df, id_vars=['ADUA'], value_vars=['PBK'])\n",
    "# replace column names\n",
    "d_melt.columns = ['ADUA', 'PBK', 'value']\n",
    "# generate a boxplot to see the data distribution by genotypes and years. Using boxplot, we can easily detect the \n",
    "# differences between different groups\n",
    "sns.boxplot(x=\"ADUA\", y=\"value\", hue=\"PBK\", data=d_melt, palette=\"Set3\")"
   ]
  },
  {
   "cell_type": "code",
   "execution_count": null,
   "metadata": {},
   "outputs": [],
   "source": []
  }
 ],
 "metadata": {
  "kernelspec": {
   "display_name": "Python 3",
   "language": "python",
   "name": "python3"
  },
  "language_info": {
   "codemirror_mode": {
    "name": "ipython",
    "version": 3
   },
   "file_extension": ".py",
   "mimetype": "text/x-python",
   "name": "python",
   "nbconvert_exporter": "python",
   "pygments_lexer": "ipython3",
   "version": "3.7.3"
  }
 },
 "nbformat": 4,
 "nbformat_minor": 2
}
